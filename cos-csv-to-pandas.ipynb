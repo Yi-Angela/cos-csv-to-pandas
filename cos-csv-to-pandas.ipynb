{
 "cells": [
  {
   "cell_type": "code",
   "execution_count": 1,
   "metadata": {},
   "outputs": [],
   "source": [
    "import io\n",
    "import pandas as pd\n",
    "import ibm_boto3\n",
    "from ibm_botocore.client import Config, ClientError"
   ]
  },
  {
   "cell_type": "code",
   "execution_count": null,
   "metadata": {},
   "outputs": [],
   "source": [
    "# Constants for IBM COS values\n",
    "COS_ENDPOINT = \"<endpoint>\"\n",
    "COS_API_KEY_ID = \"<api-key>\"\n",
    "COS_INSTANCE_CRN = \"<service-instance-id>\"\n",
    "# Create resource\n",
    "cos = ibm_boto3.resource(\"s3\",\n",
    "    ibm_api_key_id=COS_API_KEY_ID,\n",
    "    ibm_service_instance_id=COS_INSTANCE_CRN,\n",
    "    config=Config(signature_version=\"oauth\"),\n",
    "    endpoint_url=COS_ENDPOINT\n",
    "                        \n",
    ")"
   ]
  },
  {
   "cell_type": "code",
   "execution_count": null,
   "metadata": {},
   "outputs": [],
   "source": [
    "def get_bucket_contents(bucket_name):\n",
    "    items_list = []\n",
    "    print(\"Retrieving bucket contents from:{0}\".format(bucket_name))\n",
    "    try:\n",
    "        files = cos.Bucket(bucket_name).objects.all()\n",
    "        for file in files:\n",
    "            items_list.append(\"{0}\".format(file.key, file.size))\n",
    "    except ClientError as be:\n",
    "        print(\"CLIENT ERROR: {0}\\n\".format(be))\n",
    "    except Exception as e:\n",
    "        print(\"Unable to retrieve bucket contents: {0}\".format(e))\n",
    "    return items_list"
   ]
  },
  {
   "cell_type": "code",
   "execution_count": null,
   "metadata": {},
   "outputs": [],
   "source": [
    "items_list = get_bucket_contents(bucket_name)\n",
    "df_dict = {}\n",
    "for item in items_list:\n",
    "    length = len(item)\n",
    "    name = item[:length-4] \n",
    "    #using the substring before the .csv extension as the name\n",
    "    key = name\n",
    "    object = cos.Object('bucket_name', item)\n",
    "    csvFile = object.get()\n",
    "    stream = io.StringIO(csvFile[\"Body\"].read().decode('utf-8'))\n",
    "    df = pd.read_csv(stream)\n",
    "    df_dict[key] = df"
   ]
  },
  {
   "cell_type": "code",
   "execution_count": null,
   "metadata": {},
   "outputs": [],
   "source": []
  }
 ],
 "metadata": {
  "kernelspec": {
   "display_name": "Python 3.9",
   "language": "python",
   "name": "python3"
  },
  "language_info": {
   "codemirror_mode": {
    "name": "ipython",
    "version": 3
   },
   "file_extension": ".py",
   "mimetype": "text/x-python",
   "name": "python",
   "nbconvert_exporter": "python",
   "pygments_lexer": "ipython3",
   "version": "3.9.7"
  }
 },
 "nbformat": 4,
 "nbformat_minor": 1
}
